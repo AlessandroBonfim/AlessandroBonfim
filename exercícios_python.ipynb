{
  "nbformat": 4,
  "nbformat_minor": 0,
  "metadata": {
    "colab": {
      "provenance": [],
      "authorship_tag": "ABX9TyNfMxgFxoBBWbB0D4Or209V",
      "include_colab_link": true
    },
    "kernelspec": {
      "name": "python3",
      "display_name": "Python 3"
    },
    "language_info": {
      "name": "python"
    }
  },
  "cells": [
    {
      "cell_type": "markdown",
      "metadata": {
        "id": "view-in-github",
        "colab_type": "text"
      },
      "source": [
        "<a href=\"https://colab.research.google.com/github/AlessandroBonfim/AlessandroBonfim/blob/main/exerc%C3%ADcios_python.ipynb\" target=\"_parent\"><img src=\"https://colab.research.google.com/assets/colab-badge.svg\" alt=\"Open In Colab\"/></a>"
      ]
    },
    {
      "cell_type": "code",
      "execution_count": 1,
      "metadata": {
        "colab": {
          "base_uri": "https://localhost:8080/"
        },
        "id": "7y45j-tGTKYc",
        "outputId": "413f6b74-73c2-4f35-9d29-84797b7a348f"
      },
      "outputs": [
        {
          "output_type": "stream",
          "name": "stdout",
          "text": [
            "Olá, Mundo!\n"
          ]
        }
      ],
      "source": [
        "print(\"Olá, Mundo!\")"
      ]
    },
    {
      "cell_type": "code",
      "source": [
        "print(\"Eu estou aprendendo Python!\");\n",
        "print(\"2 + 3 \", \"são: \", 2+3)"
      ],
      "metadata": {
        "colab": {
          "base_uri": "https://localhost:8080/"
        },
        "id": "XcUrL9VKTWuX",
        "outputId": "d7e37879-a81c-4f89-d6fa-4ffff8904116"
      },
      "execution_count": 2,
      "outputs": [
        {
          "output_type": "stream",
          "name": "stdout",
          "text": [
            "Eu estou aprendendo Python!\n",
            "2 + 3  são:  5\n"
          ]
        }
      ]
    },
    {
      "cell_type": "code",
      "source": [
        "frase = (\"Olá, Mundo!\")\n",
        "print(frase)"
      ],
      "metadata": {
        "colab": {
          "base_uri": "https://localhost:8080/"
        },
        "id": "KnLkkVOLWcox",
        "outputId": "6073c26a-0fe1-47aa-c22a-94247073a492"
      },
      "execution_count": 3,
      "outputs": [
        {
          "output_type": "stream",
          "name": "stdout",
          "text": [
            "Olá, Mundo!\n"
          ]
        }
      ]
    },
    {
      "cell_type": "code",
      "source": [
        "print(frase[0])"
      ],
      "metadata": {
        "colab": {
          "base_uri": "https://localhost:8080/"
        },
        "id": "6k-0iHl2WniU",
        "outputId": "79c2281c-bf31-42f6-e708-26ab6cc39aa7"
      },
      "execution_count": 10,
      "outputs": [
        {
          "output_type": "stream",
          "name": "stdout",
          "text": [
            "O\n"
          ]
        }
      ]
    },
    {
      "cell_type": "markdown",
      "source": [
        "multiplicando string"
      ],
      "metadata": {
        "id": "LO3Na7DJYLE_"
      }
    },
    {
      "cell_type": "code",
      "source": [
        "s1 = 'A' + '-' *10 + 'B'\n",
        "print(s1)"
      ],
      "metadata": {
        "colab": {
          "base_uri": "https://localhost:8080/"
        },
        "id": "VyJhjc8NYOTz",
        "outputId": "e2b3a3cc-71c1-4a7a-cc8e-aa89cdd45f9a"
      },
      "execution_count": 11,
      "outputs": [
        {
          "output_type": "stream",
          "name": "stdout",
          "text": [
            "A----------B\n"
          ]
        }
      ]
    },
    {
      "cell_type": "code",
      "source": [
        "#Variáveis\n",
        "#---------------------------------------------------------\n",
        "disciplina = 'Lógica de Programação e Algoritmos'\n",
        "tamanho = len(disciplina)\n",
        "#---------------------------------------------------------\n",
        "#Prints\n",
        "#---------------------------------------------------------\n",
        "print(disciplina)\n",
        "print('A quantidade de caracteres do texto é: ', tamanho, '.')\n"
      ],
      "metadata": {
        "colab": {
          "base_uri": "https://localhost:8080/"
        },
        "id": "fxeaE9jNZoOq",
        "outputId": "dbc36f24-4688-470e-fede-f1e2ded4bce0"
      },
      "execution_count": 20,
      "outputs": [
        {
          "output_type": "stream",
          "name": "stdout",
          "text": [
            "Lógica de Programação e Algoritmos\n",
            "A quantidade de caracteres do texto é:  34 .\n"
          ]
        }
      ]
    },
    {
      "cell_type": "code",
      "source": [
        "nome = input('Qual é o seu nome?')\n",
        "print('-' *50)\n",
        "print('Olá {}, seja muito bem vindo ao mundo python!' .format(nome))"
      ],
      "metadata": {
        "colab": {
          "base_uri": "https://localhost:8080/"
        },
        "id": "4S44Nl4naESH",
        "outputId": "af73eb36-b1b8-4f8c-8600-2a5721ad4cea"
      },
      "execution_count": 24,
      "outputs": [
        {
          "output_type": "stream",
          "name": "stdout",
          "text": [
            "Qual é o seu nome?Ale\n",
            "--------------------------------------------------\n",
            "Olá Ale, seja muito bem vindo ao mundo python!\n"
          ]
        }
      ]
    },
    {
      "cell_type": "code",
      "source": [
        "num1 = int(input('Digite o primeiro valor:'))\n",
        "num2 = int(input('Digite o segundo valor:'))\n",
        "print('-' *50)\n",
        "print('O resultado da soma entre {} e {} é:' .format(num1, num2), num1 + num2)"
      ],
      "metadata": {
        "colab": {
          "base_uri": "https://localhost:8080/"
        },
        "id": "2zyTnMapch_l",
        "outputId": "70b22142-9579-43b5-d70a-6d218f10e87c"
      },
      "execution_count": 2,
      "outputs": [
        {
          "output_type": "stream",
          "name": "stdout",
          "text": [
            "Digite o primeiro valor:8\n",
            "Digite o segundo valor:2\n",
            "--------------------------------------------------\n",
            "O resultado da soma entre 8 e 2 é: 10\n"
          ]
        }
      ]
    }
  ]
}