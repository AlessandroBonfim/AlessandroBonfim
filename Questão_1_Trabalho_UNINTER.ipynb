{
  "nbformat": 4,
  "nbformat_minor": 0,
  "metadata": {
    "colab": {
      "provenance": [],
      "authorship_tag": "ABX9TyPy6d/pZvehGO0FMu3jvUsi",
      "include_colab_link": true
    },
    "kernelspec": {
      "name": "python3",
      "display_name": "Python 3"
    },
    "language_info": {
      "name": "python"
    }
  },
  "cells": [
    {
      "cell_type": "markdown",
      "metadata": {
        "id": "view-in-github",
        "colab_type": "text"
      },
      "source": [
        "<a href=\"https://colab.research.google.com/github/AlessandroBonfim/AlessandroBonfim/blob/main/Quest%C3%A3o_1_Trabalho_UNINTER.ipynb\" target=\"_parent\"><img src=\"https://colab.research.google.com/assets/colab-badge.svg\" alt=\"Open In Colab\"/></a>"
      ]
    },
    {
      "cell_type": "code",
      "source": [
        "print('Olá! Seja bem vindo à loja do Alessandro da Silva do Bonfim!')\n",
        "print('A seguir pediremos que digite um valor e a quantidade do produto, para que assim retornemos os valores com e sem descontos.')\n",
        "#A seguir estão as linhas de código onde pediremos o valor e posteriormente a quantidade do produto em questão.\n",
        "\n",
        "#--------Abaixo ão as variáveis que receberão os valores------------------------\n",
        "\n",
        "productValue = int(input('Qual o valor do produto? '))\n",
        "productQuantity = int(input('Qual a quantidade do produto? '))\n",
        "\n",
        "#------- A próxima variável calcula o preço sem descontos-----------------------\n",
        "\n",
        "price = productValue * productQuantity\n",
        "\n",
        "#Abaixo está o código pra determinar se haverá ou não desconto e o valor com desconto se for aplicável.\n",
        "a = float()\n",
        "if price < 1000 :\n",
        "    a = 0\n",
        "\n",
        "elif price >= 1000 and price < 3000 :\n",
        "  a = 3\n",
        "\n",
        "elif price >= 3000 and price < 5000 :\n",
        "    a = 5\n",
        "\n",
        "else :\n",
        "    a = 8 ;\n",
        "\n",
        "# -----Agora trabalharemos na fórmula para calcular o desconto\n",
        "\n",
        "discountValue = price * a/100\n",
        "discountPrice = price - discountValue\n",
        "\n",
        "#----Agora veremos os prints das mensagens finais\n",
        "print('O preço do produto SEM desconto é de {}'.format(price))\n",
        "\n",
        "#----Abaixo está um código que apresenta uma mensagem diferente para quando NÂO houver desconto.\n",
        "if discountValue >= 1 :\n",
        "\n",
        " print('O preço do produto COM desconto é de {}'.format(discountPrice))\n",
        "\n",
        "else :\n",
        "  print('Desculpe, os descontos só estão disponíveis a partit de 1000 $')\n",
        "\n"
      ],
      "metadata": {
        "colab": {
          "base_uri": "https://localhost:8080/"
        },
        "id": "E3eLX640vF58",
        "outputId": "e7975db2-6113-424b-d283-65e8ad4c3ab5"
      },
      "execution_count": 37,
      "outputs": [
        {
          "output_type": "stream",
          "name": "stdout",
          "text": [
            "Olá! Seja bem vindo à loja do Alessandro da Silva do Bonfim!\n",
            "A seguir pediremos que digite um valor e a quantidade do produto, para que assim retornemos os valores com e sem descontos.\n",
            "Qual o valor do produto? 150\n",
            "Qual a quantidade do produto? 10\n",
            "O preço do produto SEM desconto é de 1500\n",
            "O preço do produto COM desconto é de 1455.0\n"
          ]
        }
      ]
    }
  ]
}