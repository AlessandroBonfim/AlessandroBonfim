{
  "nbformat": 4,
  "nbformat_minor": 0,
  "metadata": {
    "colab": {
      "provenance": [],
      "authorship_tag": "ABX9TyMgoBVuIRlT39+EzdlI3MrJ",
      "include_colab_link": true
    },
    "kernelspec": {
      "name": "python3",
      "display_name": "Python 3"
    },
    "language_info": {
      "name": "python"
    }
  },
  "cells": [
    {
      "cell_type": "markdown",
      "metadata": {
        "id": "view-in-github",
        "colab_type": "text"
      },
      "source": [
        "<a href=\"https://colab.research.google.com/github/AlessandroBonfim/AlessandroBonfim/blob/main/Exerc%C3%ADcio_2_trabalho_UNINTER_me.ipynb\" target=\"_parent\"><img src=\"https://colab.research.google.com/assets/colab-badge.svg\" alt=\"Open In Colab\"/></a>"
      ]
    },
    {
      "cell_type": "code",
      "source": [
        "\n",
        "print(\"Bem-vindo a área de delivery de Açaí e \\Cupuaçu do |Alessandro da Silva.\")\n",
        "\n",
        "# Inicializa o acumulador de valores dos pedidos\n",
        "print('------------------------------CARDÁPIO----------------------------------')\n",
        "print('------------------------------------------------------------------------')\n",
        "print('-------------- TAMANHO ------ CUPUAÇU ------ AÇAÍ-----------------------')\n",
        "print('----------------- P ----------- 10$ --------- 12$ ----------------------')\n",
        "print('----------------- M ----------- 15$ --------- 17$ ----------------------')\n",
        "print('----------------- G ----------- 19$ --------- 21$ ----------------------')\n",
        "total_pedido = 0\n",
        "pedidos = []\n",
        "#--------------------------DIGITE AC E CP EM MAIÚSCULO!!!-----------------------\n",
        "while True:\n",
        "        # incrementa if com not in pra printar mensagem de sabor inválido caso seja nescessário\n",
        "        sabor = input(\"Escolha o sabor (CP para Cupuaçu, AC para Açaí): \")\n",
        "        if sabor not in [\"CP\", \"AC\"]:\n",
        "            print(\"Sabor inválido. Tente novamente.\")\n",
        "            continue\n",
        "\n",
        "        # incrementa if com not in pra printar mensagem de tamanho inválido caso seja nescessário\n",
        "        tamanho = input(\"Escolha o tamanho (P, M, G): \")\n",
        "        if tamanho not in [\"P\", \"M\", \"G\"]:\n",
        "            print(\"Tamanho inválido. Tente novamente.\")\n",
        "            continue\n",
        "\n",
        "        #if elif com tamanhos dos sabores\n",
        "        if sabor == \"CP\" and tamanho == \"P\":\n",
        "            valor_pedido = 10\n",
        "            tamanhoPrint = 'P'\n",
        "            saborPrint = 'Cupuaçu'\n",
        "        elif sabor == \"CP\" and tamanho == \"M\":\n",
        "            valor_pedido = 15\n",
        "            tamanhoPrint = 'M'\n",
        "            saborPrint = 'Cupuaçu'\n",
        "        elif sabor == \"CP\" and tamanho == \"G\":\n",
        "            valor_pedido = 19\n",
        "            tamanhoPrint = 'G'\n",
        "            saborPrint = 'Cupuaçu'\n",
        "        elif sabor == \"AC\" and tamanho == \"P\":\n",
        "            valor_pedido = 12\n",
        "            tamanhoPrint = 'P'\n",
        "            saborPrint = 'Açaí'\n",
        "        elif sabor == \"AC\" and tamanho == \"M\":\n",
        "            valor_pedido = 17\n",
        "            tamanhoPrint = 'M'\n",
        "            saborPrint = 'Açaí'\n",
        "        elif sabor == 'AC' and tamanho =='G':\n",
        "            valor_pedido = 21\n",
        "            tamanhoPrint = 'G'\n",
        "            saborPrint = 'Açaí'\n",
        "\n",
        "       #somando o valor total do pedido\n",
        "        total_pedido += valor_pedido\n",
        "        print('Você pediu {} tamanho {} : R$ {}'.format(saborPrint, tamanhoPrint, valor_pedido))\n",
        "#criando lista com print para retornar os pedidos\n",
        "        pedidos.append({\"sabor\": sabor, \"tamanho\": tamanho, \"valor\": valor_pedido})\n",
        "\n",
        "   #interação para saber se o usuário deseja pedir mais\n",
        "        mais_pedidos = input(\"Deseja pedir mais alguma coisa? (sim/não): \")\n",
        "        if mais_pedidos != 'sim' :\n",
        "            break\n",
        "\n",
        "#print acessando os pedidos com um loop de repetição onde quando o usuário decide fazer mais um pedido, adciona um print mudando apenas o numero dele usando o index como referencia pra 1, 2 ,3 ...\n",
        "\n",
        "print(\"\\nDetalhes dos Pedidos:\")\n",
        "for i, pedido in enumerate(pedidos, start=1):\n",
        "    print(f\"Pedido {i}: {pedido['sabor']} tamanho {pedido['tamanho']}\")\n",
        "\n",
        "# Calcula e exibe o total do pedido\n",
        "total_pedido = sum(pedido[\"valor\"] for pedido in pedidos)\n",
        "print(f\"\\nTotal do Pedido: {total_pedido}$\")"
      ],
      "metadata": {
        "id": "8nWbPUWMk2Rs"
      },
      "execution_count": null,
      "outputs": []
    }
  ]
}